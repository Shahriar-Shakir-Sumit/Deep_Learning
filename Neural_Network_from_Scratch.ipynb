{
 "cells": [
  {
   "cell_type": "code",
   "execution_count": 5,
   "id": "f5e5a4f7-f4fe-4ba0-bb44-c889bf2c81d1",
   "metadata": {},
   "outputs": [],
   "source": [
    "import tensorflow as tf\n",
    "import numpy as np\n",
    "import matplotlib.pyplot as plt\n",
    "\n",
    "import warnings\n",
    "warnings.filterwarnings('ignore')\n",
    "%matplotlib inline"
   ]
  },
  {
   "cell_type": "code",
   "execution_count": 6,
   "id": "18638a95-f09d-4d4c-a66d-644b4216789f",
   "metadata": {},
   "outputs": [
    {
     "name": "stdout",
     "output_type": "stream",
     "text": [
      "Help on function filterwarnings in module warnings:\n",
      "\n",
      "filterwarnings(action, message='', category=<class 'Warning'>, module='', lineno=0, append=False)\n",
      "    Insert an entry into the list of warnings filters (at the front).\n",
      "    \n",
      "    'action' -- one of \"error\", \"ignore\", \"always\", \"default\", \"module\",\n",
      "                or \"once\"\n",
      "    'message' -- a regex that the warning message must match\n",
      "    'category' -- a class that the warning must be a subclass of\n",
      "    'module' -- a regex that the module name must match\n",
      "    'lineno' -- an integer line number, 0 matches all warnings\n",
      "    'append' -- if true, append to the list of filters\n",
      "\n"
     ]
    }
   ],
   "source": [
    "help(warnings.filterwarnings)"
   ]
  },
  {
   "cell_type": "code",
   "execution_count": 10,
   "id": "5a997817-dd67-4dde-8773-cdab3f3ffaf5",
   "metadata": {},
   "outputs": [],
   "source": [
    "class NeuralNetwork:\n",
    "    def __init__(self, layers):\n",
    "        self.layers = layers\n",
    "        self.L = len(layers)\n",
    "        \n",
    "        self.number_feature = layers[0]\n",
    "        self.number_class = layers[-1]\n",
    "        \n",
    "        self.W = {}\n",
    "        self.b = {}\n",
    "        \n",
    "        self.dw = {}\n",
    "        self.db = {}\n",
    "        \n",
    "        self.setup()\n",
    "        \n",
    "    def setup(self):\n",
    "        for i in range(1, self.L):\n",
    "            self.W[i] = tf.Variable(tf.random.normal(shape = (self.layers[i], self.layers[i-1])))\n",
    "            self.b[i] = tf.Variable(tf.random.normal(shape = (self.layers[i], 1)))"
   ]
  },
  {
   "cell_type": "code",
   "execution_count": 11,
   "id": "db43dab9-fadb-4936-95d0-1f046313d627",
   "metadata": {},
   "outputs": [],
   "source": [
    "#Forward propagation\n",
    "class NeuralNetwork(NeuralNetwork):\n",
    "    def forwardPass(self, A):\n",
    "        A = tf.convert_to_tensor(A, dtype=float32)\n",
    "        for i in range(1, self.L):\n",
    "            Z = tf.matmul(A, tf.transpose(self.W[i])) + tf.transpose(self.b[i])\n",
    "            if i!= self.L-1:\n",
    "                A = tf.nn.relu(Z)\n",
    "            else:\n",
    "                A = Z\n",
    "        return A"
   ]
  },
  {
   "cell_type": "code",
   "execution_count": 12,
   "id": "071eae38-1ea0-4eda-8d1f-e0311a67105c",
   "metadata": {},
   "outputs": [],
   "source": [
    "#We will use this section to calculate loss function and upgrading the previous parameters\n",
    "class NeuralNetwork(NeuralNetwork):\n",
    "    def compute_loss(self, A, Y):\n",
    "        return tf.reduce_mean(tf.nn.softmax_cross_entropy_with_logits(Y, A))\n",
    "    \n",
    "    def upgrade_parameters(self, lr):\n",
    "        for i in range(1, self.L):\n",
    "            self.W[i].assing_sub(lr*self.dw[i])\n",
    "            self.b[i].assing_sub(lr*self.db[i])"
   ]
  },
  {
   "cell_type": "code",
   "execution_count": 13,
   "id": "72cc7acd-edfd-4913-aa87-65b08eca3a9e",
   "metadata": {},
   "outputs": [],
   "source": [
    "class NeuralNetwork(NeuralNetwork):\n",
    "    def predict(self, x):\n",
    "        A = self.forwardPass(x)\n",
    "        return tf.argmax(tf.nn.softmax(A), axis = 1)\n",
    "    \n",
    "    def info(self):\n",
    "        num_params = 0\n",
    "        for i in range(1, self.L):\n",
    "            num_params += self.W[i].shape[0] * self.W[i].shape[1]\n",
    "            num_params += self.b[i].shape[0]\n",
    "        \n",
    "        print (\"Number of feature: {}\".format(self.number_feature))\n",
    "        print (\"Total number of class is: {}\".format(self.number_class))\n",
    "        \n",
    "        print (\"Hidden layer information is: \")\n",
    "        for i in range(1, self.L-1):\n",
    "            print(\"Layer: {}, Units: {}\".format(i, self.layers[i]))\n",
    "        \n",
    "        print(\"Total number of parameters: {}\".format(num_params))\n",
    "            "
   ]
  },
  {
   "cell_type": "code",
   "execution_count": null,
   "id": "7023d8aa-3d77-4dc0-ad4c-c83d4355a842",
   "metadata": {},
   "outputs": [],
   "source": []
  }
 ],
 "metadata": {
  "kernelspec": {
   "display_name": "Python 3 (ipykernel)",
   "language": "python",
   "name": "python3"
  },
  "language_info": {
   "codemirror_mode": {
    "name": "ipython",
    "version": 3
   },
   "file_extension": ".py",
   "mimetype": "text/x-python",
   "name": "python",
   "nbconvert_exporter": "python",
   "pygments_lexer": "ipython3",
   "version": "3.9.13"
  }
 },
 "nbformat": 4,
 "nbformat_minor": 5
}
