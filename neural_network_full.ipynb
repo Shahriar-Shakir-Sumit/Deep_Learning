{
 "cells": [
  {
   "cell_type": "code",
   "execution_count": 1,
   "id": "f5e5a4f7-f4fe-4ba0-bb44-c889bf2c81d1",
   "metadata": {},
   "outputs": [],
   "source": [
    "import tensorflow as tf\n",
    "import numpy as np\n",
    "import matplotlib.pyplot as plt\n",
    "\n",
    "import warnings\n",
    "warnings.filterwarnings('ignore')\n",
    "%matplotlib inline"
   ]
  },
  {
   "cell_type": "code",
   "execution_count": 2,
   "id": "18638a95-f09d-4d4c-a66d-644b4216789f",
   "metadata": {},
   "outputs": [],
   "source": [
    "#help(warnings.filterwarnings)"
   ]
  },
  {
   "cell_type": "code",
   "execution_count": 3,
   "id": "5a997817-dd67-4dde-8773-cdab3f3ffaf5",
   "metadata": {},
   "outputs": [],
   "source": [
    "class NeuralNetwork:\n",
    "    def __init__(self, layers):\n",
    "        self.layers = layers\n",
    "        self.L = len(layers)\n",
    "        \n",
    "        self.number_feature = layers[0]\n",
    "        self.number_class = layers[-1]\n",
    "        \n",
    "        self.W = {}\n",
    "        self.b = {}\n",
    "        \n",
    "        self.dw = {}\n",
    "        self.db = {}\n",
    "        \n",
    "        self.setup()\n",
    "        \n",
    "    def setup(self):\n",
    "        for i in range(1, self.L):\n",
    "            self.W[i] = tf.Variable(tf.random.normal(shape = (self.layers[i], self.layers[i-1])))\n",
    "            self.b[i] = tf.Variable(tf.random.normal(shape = (self.layers[i], 1)))"
   ]
  },
  {
   "cell_type": "code",
   "execution_count": 4,
   "id": "db43dab9-fadb-4936-95d0-1f046313d627",
   "metadata": {},
   "outputs": [],
   "source": [
    "#Forward propagation\n",
    "class NeuralNetwork(NeuralNetwork):\n",
    "    def forwardPass(self, A):\n",
    "        A = tf.convert_to_tensor(A, dtype=tf.float32)\n",
    "        for i in range(1, self.L):\n",
    "            Z = tf.matmul(A, tf.transpose(self.W[i])) + tf.transpose(self.b[i])\n",
    "            if i!= self.L-1:\n",
    "                A = tf.nn.relu(Z)\n",
    "            else:\n",
    "                A = Z\n",
    "        return A"
   ]
  },
  {
   "cell_type": "code",
   "execution_count": 5,
   "id": "071eae38-1ea0-4eda-8d1f-e0311a67105c",
   "metadata": {},
   "outputs": [],
   "source": [
    "#We will use this section to calculate loss function and upgrading the previous parameters\n",
    "class NeuralNetwork(NeuralNetwork):\n",
    "    def compute_loss(self, A, Y):\n",
    "        return tf.reduce_mean(tf.nn.softmax_cross_entropy_with_logits(Y, A))\n",
    "    \n",
    "    def upgrade_parameters(self, lr):\n",
    "        for i in range(1, self.L):\n",
    "            self.W[i].assign_sub(lr*self.dw[i])\n",
    "            self.b[i].assign_sub(lr*self.db[i])"
   ]
  },
  {
   "cell_type": "code",
   "execution_count": 6,
   "id": "72cc7acd-edfd-4913-aa87-65b08eca3a9e",
   "metadata": {},
   "outputs": [],
   "source": [
    "class NeuralNetwork(NeuralNetwork):\n",
    "    def predict(self, x):\n",
    "        A = self.forwardPass(x)\n",
    "        return tf.argmax(tf.nn.softmax(A), axis = 1)\n",
    "    \n",
    "    def info(self):\n",
    "        num_params = 0\n",
    "        for i in range(1, self.L):\n",
    "            num_params += self.W[i].shape[0] * self.W[i].shape[1]\n",
    "            num_params += self.b[i].shape[0]\n",
    "        \n",
    "        print (\"Number of feature: {}\".format(self.number_feature))\n",
    "        print (\"Total number of class is: {}\".format(self.number_class))\n",
    "        \n",
    "        print (\"Hidden layer information is: \")\n",
    "        for j in range(1, self.L-1):\n",
    "            print(\"Layer: {}, Units: {}\".format(j, self.layers[j]))\n",
    "        \n",
    "        print(\"Total number of parameters: {}\".format(num_params))\n",
    "            "
   ]
  },
  {
   "cell_type": "code",
   "execution_count": 7,
   "id": "ef2a71b3-1cc5-43ab-b933-4e583b80b631",
   "metadata": {},
   "outputs": [],
   "source": [
    "class NeuralNetwork(NeuralNetwork):\n",
    "    def training_on_batch(self, x, y, lr):\n",
    "        x = tf.convert_to_tensor(x, dtype=tf.float32)\n",
    "        y = tf.convert_to_tensor(y, dtype=tf.float32)\n",
    "        \n",
    "        with tf.GradientTape(persistent=True) as tape:\n",
    "            A = self.forwardPass(x)\n",
    "            loss = self.compute_loss(A, y)\n",
    "            \n",
    "        for key in self.W.keys():\n",
    "            self.dw[key] = tape.gradient(loss, self.W[key])\n",
    "            self.db[key] = tape.gradient(loss, self.b[key])\n",
    "            \n",
    "        del tape\n",
    "        \n",
    "        self.upgrade_parameters(lr)\n",
    "        return loss.numpy()"
   ]
  },
  {
   "cell_type": "code",
   "execution_count": 8,
   "id": "7023d8aa-3d77-4dc0-ad4c-c83d4355a842",
   "metadata": {},
   "outputs": [],
   "source": [
    "#Training start\n",
    "class NeuralNetwork(NeuralNetwork):\n",
    "    def train(self, x_train, y_train, x_test, y_test, epochs, step_per_epochs, batch_size, lr):\n",
    "        history = {'val_loss':[],\n",
    "                  'train_loss':[],\n",
    "                  'val_acc':[]}\n",
    "        \n",
    "        for e in range(0, epochs):\n",
    "            epochs_loss_train = 0.0\n",
    "            print(\"Epochs {}\".format(e), end= \" | \")\n",
    "            for i in range(step_per_epochs):\n",
    "                x_batch = x_train[i*batch_size : (i+1)*batch_size]\n",
    "                y_batch = y_train[i*batch_size : (i+1)*batch_size]\n",
    "                batch_loss = self.training_on_batch(x_batch, y_batch, lr)\n",
    "                epochs_loss_train += batch_loss\n",
    "                \n",
    "                if i %int(step_per_epochs/10) == 0:\n",
    "                    print(end =\" . \")\n",
    "                    \n",
    "            history['train_loss'].append(epochs_loss_train/step_per_epochs)\n",
    "            valA = self.forwardPass(x_test)\n",
    "            history['val_loss'].append(self.compute_loss(y_test, valA).numpy())\n",
    "        \n",
    "            valuePr = self.predict(x_test)\n",
    "            history['val_acc'].append(np.mean(np.argmax(y_test, axis = 1) == valuePr.numpy()))\n",
    "            print(\"Value Accuracy: \", history['val_acc'][-1])\n",
    "        \n",
    "        return history\n",
    "            "
   ]
  },
  {
   "cell_type": "code",
   "execution_count": 9,
   "id": "12e67838-3a6e-4789-bda3-ddfb5b90077d",
   "metadata": {},
   "outputs": [],
   "source": [
    "def loadDatasets():\n",
    "    (x_train, y_train), (x_test, y_test) = tf.keras.datasets.mnist.load_data()\n",
    "    x_train = np.reshape(x_train, (x_train.shape[0], 784))/255.0\n",
    "    y_train = tf.keras.utils.to_categorical(y_train)\n",
    "    x_test  = np.reshape(x_test, (x_test.shape[0], 784))/255.0\n",
    "    y_test  = tf.keras.utils.to_categorical(y_test)\n",
    "    \n",
    "    print(\"X Train Datasets Shape: {}\".format(x_train.shape))\n",
    "    print(\"Y Test Data Shape: {}\".format(x_test))\n",
    "    print(\"Len of Y test Dataset: {}\".format(len(y_test[0])))\n",
    "    print(\"Unique value is: {}\".format(np.argmax(y_test[0])))\n",
    "    return (x_train, y_train), (x_test, y_test)\n",
    "\n",
    "def plot_random_sample(x, y, p = None):\n",
    "    indicies = np.random.choice(range(0, x.shape[0]), 10)\n",
    "    y = np.argmax(y, axis=1)\n",
    "    \n",
    "    if p is None:\n",
    "        p = y\n",
    "        \n",
    "    plt.figure(figsize = (10, 4))\n",
    "    for i, index in enumerate(indicies):\n",
    "        plt.subplot(2, 5, i+1)\n",
    "        plt.imshow(x[index].reshape((28, 28)), cmap='binary')\n",
    "        plt.xticks([])\n",
    "        plt.yticks([])\n",
    "        plt.gray()\n",
    "        \n",
    "        if y[index] == p[index]:\n",
    "            col = 'g'\n",
    "        else:\n",
    "            col = 'r'\n",
    "        \n",
    "        plt.xlabel(str(p[index]), color = col)\n",
    "        \n",
    "    return plt"
   ]
  },
  {
   "cell_type": "code",
   "execution_count": 10,
   "id": "3a046227-a0b7-46c9-9c7f-2dad4ce71e8b",
   "metadata": {},
   "outputs": [
    {
     "name": "stdout",
     "output_type": "stream",
     "text": [
      "X Train Datasets Shape: (60000, 784)\n",
      "Y Test Data Shape: [[0. 0. 0. ... 0. 0. 0.]\n",
      " [0. 0. 0. ... 0. 0. 0.]\n",
      " [0. 0. 0. ... 0. 0. 0.]\n",
      " ...\n",
      " [0. 0. 0. ... 0. 0. 0.]\n",
      " [0. 0. 0. ... 0. 0. 0.]\n",
      " [0. 0. 0. ... 0. 0. 0.]]\n",
      "Len of Y test Dataset: 10\n",
      "Unique value is: 7\n"
     ]
    }
   ],
   "source": [
    "(x_train, y_train), (x_test, y_test) = loadDatasets()\n"
   ]
  },
  {
   "cell_type": "code",
   "execution_count": 11,
   "id": "51bacb2c-bdf3-4ff5-9757-10142d7b1017",
   "metadata": {},
   "outputs": [
    {
     "data": {
      "image/png": "[encoded data removed]",
      "text/plain": [
       "<Figure size 1000x400 with 10 Axes>"
      ]
     },
     "metadata": {},
     "output_type": "display_data"
    }
   ],
   "source": [
    "plot_random_sample(x_train, y_train).show()"
   ]
  },
  {
   "cell_type": "code",
   "execution_count": 12,
   "id": "59267ea9-2102-497d-948f-c583e65ceae1",
   "metadata": {},
   "outputs": [],
   "source": [
    "def plot_results(history):\n",
    "    plt.figure(figsize=(12,4))\n",
    "    epochs = len(history['val_loss'])\n",
    "    plt.subplot(1, 2, 1)\n",
    "    plt.plot(range(epochs), history['val_loss'], label='Val Loss')\n",
    "    plt.plot(range(epochs), history['train_loss'], label='Train Loss')\n",
    "    plt.xticks(list(range(epochs)))\n",
    "    plt.xlabel('Epochs')\n",
    "    plt.ylabel('Accuracy')\n",
    "    plt.legend()\n",
    "    return plt"
   ]
  },
  {
   "cell_type": "code",
   "execution_count": 13,
   "id": "cd03bf2b-474e-47fa-b5dd-9ef8d20f78a2",
   "metadata": {},
   "outputs": [],
   "source": [
    "network = NeuralNetwork([784, 256, 256, 10])"
   ]
  },
  {
   "cell_type": "code",
   "execution_count": 14,
   "id": "53a15a65-8bfc-4927-bbf6-96ff55858366",
   "metadata": {},
   "outputs": [
    {
     "name": "stdout",
     "output_type": "stream",
     "text": [
      "Number of feature: 784\n",
      "Total number of class is: 10\n",
      "Hidden layer information is: \n",
      "Layer: 1, Units: 256\n",
      "Layer: 2, Units: 256\n",
      "Total number of parameters: 269322\n"
     ]
    }
   ],
   "source": [
    "network.info()"
   ]
  },
  {
   "cell_type": "code",
   "execution_count": 15,
   "id": "9343ed65-07d3-4e58-942a-8a46f764ce2e",
   "metadata": {},
   "outputs": [],
   "source": [
    "batch_size = 128\n",
    "epochs = 10\n",
    "step_per_epochs = int(x_train.shape[0]/batch_size)"
   ]
  },
  {
   "cell_type": "code",
   "execution_count": 16,
   "id": "f7840419-d94d-4a67-bfc2-003beac1af77",
   "metadata": {},
   "outputs": [],
   "source": [
    "learning_rate = 3e-6"
   ]
  },
  {
   "cell_type": "code",
   "execution_count": null,
   "id": "8cc058e2-9844-49c9-8275-a1af93f3f5a6",
   "metadata": {},
   "outputs": [
    {
     "name": "stdout",
     "output_type": "stream",
     "text": [
      "Epochs 0 |  .  .  .  .  .  .  .  .  .  .  . Value Accuracy:  0.112\n",
      "Epochs 1 |  .  .  .  .  .  .  .  .  .  .  . Value Accuracy:  0.1177\n",
      "Epochs 2 |  .  .  .  .  .  .  .  .  .  .  . Value Accuracy:  0.1292\n",
      "Epochs 3 |  .  .  .  .  .  .  .  .  .  .  . Value Accuracy:  0.1424\n",
      "Epochs 4 |  .  .  .  .  .  .  .  .  .  .  . Value Accuracy:  0.1521\n",
      "Epochs 5 |  .  .  .  .  .  .  .  .  .  .  . Value Accuracy:  0.1658\n",
      "Epochs 6 |  .  .  .  .  .  .  .  .  .  .  . Value Accuracy:  0.1825\n",
      "Epochs 7 |  .  .  .  .  .  .  .  .  .  .  . Value Accuracy:  0.2001\n",
      "Epochs 8 |  .  . "
     ]
    }
   ],
   "source": [
    "history = network.train(x_train, y_train, x_test, y_test, epochs, step_per_epochs, batch_size, learning_rate)"
   ]
  }
 ],
 "metadata": {
  "kernelspec": {
   "display_name": "Python 3 (ipykernel)",
   "language": "python",
   "name": "python3"
  },
  "language_info": {
   "codemirror_mode": {
    "name": "ipython",
    "version": 3
   },
   "file_extension": ".py",
   "mimetype": "text/x-python",
   "name": "python",
   "nbconvert_exporter": "python",
   "pygments_lexer": "ipython3",
   "version": "3.9.13"
  },
  "toc-autonumbering": true,
  "toc-showcode": false,
  "toc-showmarkdowntxt": false,
  "toc-showtags": false
 },
 "nbformat": 4,
 "nbformat_minor": 5
}
